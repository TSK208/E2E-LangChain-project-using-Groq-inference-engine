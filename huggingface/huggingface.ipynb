{
 "cells": [
  {
   "cell_type": "code",
   "execution_count": 12,
   "id": "02292922",
   "metadata": {},
   "outputs": [
    {
     "data": {
      "text/plain": [
       "True"
      ]
     },
     "execution_count": 12,
     "metadata": {},
     "output_type": "execute_result"
    }
   ],
   "source": [
    "from langchain_community.document_loaders import PyPDFLoader\n",
    "from langchain_community.document_loaders import PyPDFDirectoryLoader\n",
    "from langchain.text_splitter import RecursiveCharacterTextSplitter\n",
    "from langchain_community.vectorstores import FAISS\n",
    "# Huggingface\n",
    "from langchain_community.embeddings import HuggingFaceBgeEmbeddings\n",
    "from langchain.prompts import PromptTemplate\n",
    "\n",
    "from langchain.chains import RetrievalQA\n",
    "\n",
    "import numpy as np\n",
    "import os\n",
    "from dotenv import load_dotenv\n",
    "load_dotenv()\n"
   ]
  },
  {
   "cell_type": "code",
   "execution_count": 2,
   "id": "424b97f4",
   "metadata": {},
   "outputs": [
    {
     "data": {
      "text/plain": [
       "Document(metadata={'producer': 'Adobe PDF Library 17.0', 'creator': 'Adobe InDesign 18.2 (Windows)', 'creationdate': '2023-09-09T07:52:17-04:00', 'author': 'U.S. Census Bureau', 'keywords': 'acsbr-015', 'moddate': '2023-09-12T14:44:47+01:00', 'title': 'Health Insurance Coverage Status and Type by Geography: 2021 and 2022', 'trapped': '/false', 'source': 'US-census\\\\acsbr-015.pdf', 'total_pages': 18, 'page': 0, 'page_label': '1'}, page_content='Health Insurance Coverage Status and Type \\nby Geography: 2021 and 2022\\nAmerican Community Survey Briefs\\nACSBR-015\\nIssued September 2023\\nDouglas Conway and Breauna Branch\\nINTRODUCTION\\nDemographic shifts as well as economic and govern-\\nment policy changes can affect people’s access to \\nhealth coverage. For example, between 2021 and 2022, \\nthe labor market continued to improve, which may \\nhave affected private coverage in the United States \\nduring that time.\\n1 Public policy changes included \\nthe renewal of the Public Health Emergency, which \\nallowed Medicaid enrollees to remain covered under \\nthe Continuous Enrollment Provision.\\n2 The American \\nRescue Plan (ARP) enhanced Marketplace premium \\nsubsidies for those with incomes above 400 percent \\nof the poverty level as well as for unemployed people.\\n3\\nIn addition to national policies, individual states and \\nthe District of Columbia can affect health insurance \\ncoverage by making Marketplace or Medicaid more')"
      ]
     },
     "execution_count": 2,
     "metadata": {},
     "output_type": "execute_result"
    }
   ],
   "source": [
    "# Read the ppdfs from the folder\n",
    "loader=PyPDFDirectoryLoader(\"./US-census\")\n",
    "documents=loader.load()\n",
    "\n",
    "text_splitter=RecursiveCharacterTextSplitter(chunk_size=1000,chunk_overlap=200)\n",
    "\n",
    "final_documents=text_splitter.split_documents(documents)\n",
    "final_documents[0]"
   ]
  },
  {
   "cell_type": "code",
   "execution_count": 3,
   "id": "337186e8",
   "metadata": {},
   "outputs": [
    {
     "data": {
      "text/plain": [
       "316"
      ]
     },
     "execution_count": 3,
     "metadata": {},
     "output_type": "execute_result"
    }
   ],
   "source": [
    "len(final_documents)"
   ]
  },
  {
   "cell_type": "code",
   "execution_count": 5,
   "id": "585fe2e0",
   "metadata": {},
   "outputs": [
    {
     "name": "stderr",
     "output_type": "stream",
     "text": [
      "c:\\Users\\srika\\E2E-LangChain-project-using-Groq-inference-engine\\.venv\\Lib\\site-packages\\tqdm\\auto.py:21: TqdmWarning: IProgress not found. Please update jupyter and ipywidgets. See https://ipywidgets.readthedocs.io/en/stable/user_install.html\n",
      "  from .autonotebook import tqdm as notebook_tqdm\n",
      "c:\\Users\\srika\\E2E-LangChain-project-using-Groq-inference-engine\\.venv\\Lib\\site-packages\\huggingface_hub\\file_download.py:143: UserWarning: `huggingface_hub` cache-system uses symlinks by default to efficiently store duplicated files but your machine does not support them in C:\\Users\\srika\\.cache\\huggingface\\hub\\models--BAAI--bge-small-en-v1.5. Caching files will still work but in a degraded version that might require more space on your disk. This warning can be disabled by setting the `HF_HUB_DISABLE_SYMLINKS_WARNING` environment variable. For more details, see https://huggingface.co/docs/huggingface_hub/how-to-cache#limitations.\n",
      "To support symlinks on Windows, you either need to activate Developer Mode or to run Python as an administrator. In order to activate developer mode, see this article: https://docs.microsoft.com/en-us/windows/apps/get-started/enable-your-device-for-development\n",
      "  warnings.warn(message)\n"
     ]
    }
   ],
   "source": [
    "# Embedding Using Huggingface\n",
    "huggingface_embeddings=HuggingFaceBgeEmbeddings(\n",
    "    model_name=\"BAAI/bge-small-en-v1.5\",      #sentence-transformers/all-MiniLM-l6-v2\n",
    "    model_kwargs={'device':'cpu'},\n",
    "    encode_kwargs={'normalize_embeddings':True}\n",
    ")"
   ]
  },
  {
   "cell_type": "code",
   "execution_count": null,
   "id": "81520a64",
   "metadata": {},
   "outputs": [
    {
     "name": "stdout",
     "output_type": "stream",
     "text": [
      "[-0.07903481 -0.01134114 -0.02312096  0.02844463  0.05053342  0.05317826\n",
      " -0.01907787  0.03456026 -0.10211365 -0.02915703  0.08524261  0.05650725\n",
      " -0.02545439 -0.03308488 -0.00635736  0.0409086  -0.00628108  0.00356743\n",
      " -0.03854128  0.03667684 -0.04289802  0.03425247 -0.03116898 -0.03793728\n",
      "  0.01728389  0.01214923  0.0065312   0.01463561 -0.05529054 -0.15320708\n",
      "  0.00730849  0.03202945 -0.04701126 -0.01595976  0.01874445  0.02642932\n",
      " -0.02306377  0.08438039  0.04182488  0.05278176 -0.03057603  0.01564259\n",
      " -0.01689072  0.0052941  -0.02417435  0.00412996 -0.01889938 -0.00150624\n",
      " -0.00836943 -0.03390064  0.03515956 -0.00553129  0.04910937  0.05971859\n",
      "  0.05615961 -0.05105155  0.01475137 -0.01849957 -0.03284641  0.03576626\n",
      "  0.04947705 -0.00938883 -0.26202115  0.09750333  0.01715693  0.04781387\n",
      " -0.00556317 -0.00298305 -0.02207354 -0.04463668 -0.05760484  0.04815875\n",
      " -0.0552221   0.01635334  0.03299246  0.02147076  0.01296215  0.0146231\n",
      "  0.02174954 -0.00202998  0.02099538  0.03353843 -0.00345107 -0.04823535\n",
      "  0.05149956 -0.08948109  0.04491427 -0.0342337   0.0249574  -0.03332327\n",
      " -0.04124897  0.01226976  0.00551143  0.0281365   0.00750806  0.03364132\n",
      " -0.00718588 -0.00677306 -0.02375996  0.34350556 -0.0204054   0.00967848\n",
      " -0.00936509  0.01524745 -0.006926   -0.05803742 -0.0044303   0.01115696\n",
      "  0.017462    0.01258485  0.02158608 -0.02646193  0.0102677   0.04782214\n",
      " -0.03718097 -0.01986199  0.0400809   0.01574838  0.09363521 -0.02635877\n",
      " -0.01393858  0.03410932 -0.01630285 -0.04708788  0.02137171  0.06708883\n",
      "  0.05438905  0.1505418   0.03444392 -0.04218607  0.10422415 -0.04002277\n",
      " -0.00191297  0.0045912  -0.00292592  0.00371355 -0.02687686  0.03972114\n",
      " -0.00739634  0.05129855  0.00698694 -0.00043551 -0.00752806 -0.13413776\n",
      " -0.03140998  0.17964658 -0.02152568  0.04534227  0.02027221 -0.01826408\n",
      " -0.04439811  0.04787035 -0.03801552  0.04057755 -0.03817715  0.01659363\n",
      " -0.00368185  0.02469144 -0.02634715 -0.0672743   0.05705411 -0.03698839\n",
      " -0.057541    0.01774045  0.04163101 -0.02699809 -0.01342312 -0.06434496\n",
      "  0.02320634  0.00476098  0.01345851  0.05142651  0.01828844 -0.0226721\n",
      "  0.08680934  0.02288986 -0.02278558 -0.00261808 -0.00936064 -0.05964357\n",
      "  0.00370071 -0.02772139 -0.05116595 -0.04951671 -0.0169176  -0.04342571\n",
      " -0.06551478  0.05782724  0.04989291 -0.01559615 -0.00385899  0.00827749\n",
      " -0.06377077  0.0196986  -0.01933414 -0.01095794 -0.05990801 -0.02187357\n",
      "  0.03869356 -0.02963531 -0.03095982  0.0262945   0.00857689 -0.00225381\n",
      " -0.00917324  0.02006878  0.02308835 -0.06949829  0.03825646 -0.01321399\n",
      "  0.00288255  0.04065884  0.03197157  0.00364807  0.03610995  0.01653042\n",
      "  0.01282881 -0.02190455  0.02050887  0.03220994  0.03351384  0.06819048\n",
      "  0.09490157 -0.27463815 -0.00499028  0.00181548  0.00687728 -0.06947191\n",
      " -0.05266641 -0.045476    0.02707844  0.0040348   0.08909723  0.06208606\n",
      " -0.00817408 -0.02176254  0.10530712  0.0210507  -0.08313885  0.02648287\n",
      " -0.02122214 -0.01542385 -0.00282382  0.00493172  0.00487716 -0.06012278\n",
      " -0.02174244  0.08150738 -0.01746728  0.06210526 -0.05241903 -0.07425195\n",
      "  0.00045817 -0.05536214  0.05762159 -0.00776095 -0.11965961  0.06155294\n",
      "  0.01773321 -0.07490136  0.00434346 -0.0637446  -0.03096172 -0.02682651\n",
      "  0.05158744 -0.06356601  0.02999002 -0.01865464 -0.05194331  0.0463651\n",
      "  0.07127582 -0.08020443  0.01025253  0.00649393 -0.03402689 -0.03371225\n",
      " -0.01476089  0.02565076 -0.0625182  -0.03164578  0.03269228 -0.01906625\n",
      " -0.00269565  0.02393797  0.00502712  0.04807225 -0.00441298 -0.00810785\n",
      " -0.04506411  0.01010004 -0.03085291 -0.07091323  0.0099859   0.00276086\n",
      "  0.04710478 -0.02302792 -0.02459348  0.01797342 -0.02112835  0.0466088\n",
      " -0.00104208 -0.00374575 -0.04950179  0.04251798 -0.05733849  0.0205524\n",
      "  0.04219677 -0.01167061  0.01241849  0.01056793  0.00663805 -0.01598004\n",
      "  0.01632796 -0.02056748 -0.01553833 -0.01156681 -0.01864407  0.00332141\n",
      "  0.00658677 -0.21910885  0.04714745  0.02075714 -0.02441515 -0.00868848\n",
      " -0.01634124 -0.0249912   0.00766708 -0.01083085 -0.02472532  0.05254851\n",
      "  0.08288422  0.11848132 -0.01936332 -0.00433766  0.00458096  0.06947739\n",
      "  0.0012453   0.02368698 -0.03457183  0.0616396  -0.06045356  0.14640085\n",
      " -0.03099669  0.01726848 -0.06827348 -0.01641338  0.03765266 -0.03385304\n",
      "  0.01721653  0.02592442 -0.0003479   0.02241222 -0.01919535  0.05005866\n",
      "  0.00834135  0.00977346  0.05592787  0.00274986  0.0259271  -0.04995012\n",
      " -0.02017873  0.0231792   0.01068109  0.064628   -0.02950339 -0.045299\n",
      " -0.06358044 -0.01058144  0.06793748  0.00993986 -0.02914157  0.0044198\n",
      "  0.01224195 -0.0569934  -0.01181844 -0.06126489  0.03326268  0.00284464\n",
      " -0.01248829  0.02214627  0.04263511 -0.07597522  0.0123405   0.06002007]\n",
      "(384,)\n"
     ]
    }
   ],
   "source": [
    "print(np.array(huggingface_embeddings.embed_query(final_documents[0].page_content)))\n",
    "print(np.array(huggingface_embeddings.embed_query(final_documents[0].page_content)).shape)"
   ]
  },
  {
   "cell_type": "code",
   "execution_count": 9,
   "id": "84be3b3d",
   "metadata": {},
   "outputs": [],
   "source": [
    "# VectorStore Creation\n",
    "vectorstore=FAISS.from_documents(final_documents[:120],huggingface_embeddings)"
   ]
  },
  {
   "cell_type": "code",
   "execution_count": 10,
   "id": "e1b86b94",
   "metadata": {},
   "outputs": [
    {
     "name": "stdout",
     "output_type": "stream",
     "text": [
      "2 U.S. Census Bureau\n",
      "WHAT IS HEALTH INSURANCE COVERAGE?\n",
      "This brief presents state-level estimates of health insurance coverage \n",
      "using data from the American Community Survey (ACS). The  \n",
      "U.S. Census Bureau conducts the ACS throughout the year; the \n",
      "survey asks respondents to report their coverage at the time of \n",
      "interview. The resulting measure of health insurance coverage, \n",
      "therefore, reflects an annual average of current comprehensive \n",
      "health insurance coverage status.* This uninsured rate measures a \n",
      "different concept than the measure based on the Current Population \n",
      "Survey Annual Social and Economic Supplement (CPS ASEC). \n",
      "For reporting purposes, the ACS broadly classifies health insurance \n",
      "coverage as private insurance or public insurance. The ACS defines \n",
      "private health insurance as a plan provided through an employer \n",
      "or a union, coverage purchased directly by an individual from an \n",
      "insurance company or through an exchange (such as healthcare.\n"
     ]
    }
   ],
   "source": [
    "# Query using Similarity Search\n",
    "query=\"WHAT IS HEALTH INSURANCE COVERAGE?\"\n",
    "relevant_docments=vectorstore.similarity_search(query)\n",
    "\n",
    "print(relevant_docments[0].page_content)"
   ]
  },
  {
   "cell_type": "code",
   "execution_count": 11,
   "id": "2cd459de",
   "metadata": {},
   "outputs": [
    {
     "name": "stdout",
     "output_type": "stream",
     "text": [
      "tags=['FAISS', 'HuggingFaceBgeEmbeddings'] vectorstore=<langchain_community.vectorstores.faiss.FAISS object at 0x00000224C2CF5DF0> search_kwargs={'k': 3}\n"
     ]
    }
   ],
   "source": [
    "retriever=vectorstore.as_retriever(search_type=\"similarity\",search_kwargs={\"k\":3})\n",
    "print(retriever)"
   ]
  },
  {
   "cell_type": "code",
   "execution_count": null,
   "id": "0227563e",
   "metadata": {},
   "outputs": [],
   "source": [
    "from langchain_community.llms import HuggingFaceHub\n",
    "\n",
    "hf=HuggingFaceHub(\n",
    "    repo_id=\"mistralai/Mistral-7B-v0.1\",\n",
    "    model_kwargs={\"temperature\":0.1,\"max_length\":500}\n",
    "    huggingfacehub_api_token=os.environ['HUGGINGFACEHUB_API_TOKEN']\n",
    ")\n",
    "query=\"What is the health insurance coverage?\"\n",
    "hf.invoke(query)"
   ]
  },
  {
   "cell_type": "code",
   "execution_count": 17,
   "id": "4c7b79d4",
   "metadata": {},
   "outputs": [],
   "source": [
    "prompt_template=\"\"\"\n",
    "Use the following piece of context to answer the question asked.\n",
    "Please try to provide the answer only based on the context\n",
    "\n",
    "{context}\n",
    "Question:{question}\n",
    "\n",
    "Helpful Answers:\n",
    " \"\"\""
   ]
  },
  {
   "cell_type": "code",
   "execution_count": 18,
   "id": "8a896d7f",
   "metadata": {},
   "outputs": [],
   "source": [
    "prompt=PromptTemplate(template=prompt_template,input_variables=[\"context\",\"question\"])"
   ]
  },
  {
   "cell_type": "code",
   "execution_count": 19,
   "id": "702856ee",
   "metadata": {},
   "outputs": [],
   "source": [
    "retrievalQA=RetrievalQA.from_chain_type(\n",
    "    llm=hf,\n",
    "    chain_type=\"stuff\",\n",
    "    retriever=retriever,\n",
    "    return_source_documents=True,\n",
    "    chain_type_kwargs={\"prompt\":prompt}\n",
    ")"
   ]
  },
  {
   "cell_type": "code",
   "execution_count": 20,
   "id": "cf0cb8ff",
   "metadata": {},
   "outputs": [],
   "source": [
    "query=\"\"\"DIFFERENCES IN THE\n",
    "UNINSURED RATE BY STATE\n",
    "IN 2022\"\"\""
   ]
  },
  {
   "cell_type": "code",
   "execution_count": null,
   "id": "dd263dd1",
   "metadata": {},
   "outputs": [],
   "source": [
    "# Call the QA chain with our query.\n",
    "result = retrievalQA.invoke({\"query\": query})\n",
    "print(result['result'])"
   ]
  }
 ],
 "metadata": {
  "kernelspec": {
   "display_name": ".venv",
   "language": "python",
   "name": "python3"
  },
  "language_info": {
   "codemirror_mode": {
    "name": "ipython",
    "version": 3
   },
   "file_extension": ".py",
   "mimetype": "text/x-python",
   "name": "python",
   "nbconvert_exporter": "python",
   "pygments_lexer": "ipython3",
   "version": "3.12.4"
  }
 },
 "nbformat": 4,
 "nbformat_minor": 5
}
